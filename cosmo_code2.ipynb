{
 "cells": [
  {
   "cell_type": "code",
   "execution_count": 1,
   "metadata": {},
   "outputs": [],
   "source": [
    "%matplotlib inline\n",
    "import numpy as np\n",
    "import lmfit\n",
    "import matplotlib.pyplot as plt\n",
    "import pandas as pd\n",
    "import corner\n",
    "import astropy\n"
   ]
  },
  {
   "cell_type": "code",
   "execution_count": 2,
   "metadata": {},
   "outputs": [],
   "source": [
    "columns=['name','redshift','distance_mod','DM_err','SN_prob']\n",
    "rawdat=pd.read_csv('SCPUnion2.1_mu_vs_z.txt', sep='\\s',names=columns, header=5, engine='python')"
   ]
  },
  {
   "cell_type": "code",
   "execution_count": 3,
   "metadata": {},
   "outputs": [],
   "source": [
    "data=np.sort(rawdat.T, axis=0)\n",
    "zs = rawdat.redshift\n",
    "mm = rawdat.distance_mod\n",
    "dm = rawdat.DM_err"
   ]
  },
  {
   "cell_type": "code",
   "execution_count": 6,
   "metadata": {},
   "outputs": [],
   "source": [
    "cosmo_lcdm = {'h':0.7, 'omega_M_0':0.3, 'omega_lambda_0':0.7, 'w0':-1.}"
   ]
  },
  {
   "cell_type": "code",
   "execution_count": 7,
   "metadata": {},
   "outputs": [],
   "source": [
    "#Distance modulus, defined as m-M.\n",
    "#def distance_modulus(d_L):\n",
    "    # return 5*(numpy.log10(d_L*1e+6)-1)"
   ]
  },
  {
   "cell_type": "code",
   "execution_count": 8,
   "metadata": {},
   "outputs": [],
   "source": [
    "#luminosity distance from distance modulus.\n",
    "#def luminosity_distance(mod):\n",
    "#    return 10.**(mod/5. + 1.)"
   ]
  },
  {
   "cell_type": "code",
   "execution_count": 9,
   "metadata": {},
   "outputs": [],
   "source": [
    "def mzz(H0,OmM,OmL,z):\n",
    "    Omk = 1.-OmM-OmL\n",
    "    OI = OmM*(1+zz)**3+Omk*(1+zz)**2+OmL\n",
    "    # protect against sqrt(-1). Else, no Big Bang\n",
    "    OI[OI<0.001] = 0.001\n",
    "    # comoving distance\n",
    "    dCz = np.cumsum(1./np.sqrt(OI))*dz\n",
    "    # curvature cases, for transverse comoving distance:\n",
    "    if (Omk < 0.):\n",
    "        dMz = np.sin(np.sqrt(-Omk)*dCz)/np.sqrt(-Omk)\n",
    "        dMz[dMz < 0.0001] = 0.0001  # what if this goes negative?\n",
    "    elif (Omk > 0.):\n",
    "        dMz = np.sinh(np.sqrt(Omk)*dCz)/np.sqrt(Omk)\n",
    "    else:\n",
    "        dMz = dCz\n",
    "        \n",
    "cosmo_lcdm = {'h':0.7, 'omega_M_0':0.3, 'omega_lambda_0':0.7, 'w0':-1.}        \n",
    "### Luminosity distance in Mpc\n",
    "def lumdist(z,cosmo_lcdm):\n",
    "    return(dMz(z,cosmo_lcdm)*(1+z))\n",
    "\n",
    "\n",
    "### SNIa distance modulus\n",
    "def musn1a(z, cosmo_lcdm ):\n",
    "    dlum = lumdist(z, cosmo_lcdm )*1e6\n",
    "    return(5*np.log10(dlum)+25)"
   ]
  },
  {
   "cell_type": "code",
   "execution_count": 10,
   "metadata": {},
   "outputs": [],
   "source": [
    "i1 = zs<0.05"
   ]
  },
  {
   "cell_type": "code",
   "execution_count": 11,
   "metadata": {},
   "outputs": [
    {
     "ename": "TypeError",
     "evalue": "'function' object has no attribute '__getitem__'",
     "output_type": "error",
     "traceback": [
      "\u001b[0;31m---------------------------------------------------------------------------\u001b[0m",
      "\u001b[0;31mTypeError\u001b[0m                                 Traceback (most recent call last)",
      "\u001b[0;32m<ipython-input-11-cf97ac7c13d5>\u001b[0m in \u001b[0;36m<module>\u001b[0;34m()\u001b[0m\n\u001b[0;32m----> 1\u001b[0;31m \u001b[0mchi2\u001b[0m \u001b[0;34m=\u001b[0m \u001b[0mnp\u001b[0m\u001b[0;34m.\u001b[0m\u001b[0msum\u001b[0m\u001b[0;34m(\u001b[0m\u001b[0;34m(\u001b[0m\u001b[0;34m(\u001b[0m\u001b[0mmm\u001b[0m\u001b[0;34m[\u001b[0m\u001b[0mi1\u001b[0m\u001b[0;34m]\u001b[0m \u001b[0;34m-\u001b[0m \u001b[0mmusn1a\u001b[0m\u001b[0;34m[\u001b[0m\u001b[0mi1\u001b[0m\u001b[0;34m]\u001b[0m\u001b[0;34m)\u001b[0m\u001b[0;34m/\u001b[0m\u001b[0mdm\u001b[0m\u001b[0;34m[\u001b[0m\u001b[0mi1\u001b[0m\u001b[0;34m]\u001b[0m\u001b[0;34m)\u001b[0m\u001b[0;34m**\u001b[0m\u001b[0;36m2\u001b[0m\u001b[0;34m)\u001b[0m\u001b[0;34m\u001b[0m\u001b[0m\n\u001b[0m",
      "\u001b[0;31mTypeError\u001b[0m: 'function' object has no attribute '__getitem__'"
     ]
    }
   ],
   "source": [
    " chi2=np.sum(((mm[i1] - musn1a[i1])/dm[i1])**2)"
   ]
  },
  {
   "cell_type": "code",
   "execution_count": null,
   "metadata": {},
   "outputs": [],
   "source": []
  }
 ],
 "metadata": {
  "kernelspec": {
   "display_name": "Python 2",
   "language": "python",
   "name": "python2"
  },
  "language_info": {
   "codemirror_mode": {
    "name": "ipython",
    "version": 2
   },
   "file_extension": ".py",
   "mimetype": "text/x-python",
   "name": "python",
   "nbconvert_exporter": "python",
   "pygments_lexer": "ipython2",
   "version": "2.7.17"
  }
 },
 "nbformat": 4,
 "nbformat_minor": 2
}
