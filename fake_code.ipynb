{
 "cells": [
  {
   "cell_type": "code",
   "execution_count": 1,
   "metadata": {},
   "outputs": [],
   "source": [
    "%matplotlib inline\n",
    "import numpy as np\n",
    "import lmfit\n",
    "import matplotlib.pyplot as plt\n",
    "import pandas as pd\n",
    "import corner\n",
    "import astropy\n",
    "import astropy.units as u\n",
    "#from scipy.optimize import curve_fit"
   ]
  },
  {
   "cell_type": "code",
   "execution_count": 2,
   "metadata": {},
   "outputs": [],
   "source": [
    "from astropy import constants as const\n"
   ]
  },
  {
   "cell_type": "code",
   "execution_count": 3,
   "metadata": {},
   "outputs": [],
   "source": [
    "H0=70.* u.km / u.s / u.Mpc\n",
    "c=const.c.to('km/s')\n",
    "a=c/H0\n",
    "a1=a.value\n",
    "#b=np.random.uniform(0., 50., 1000)"
   ]
  },
  {
   "cell_type": "code",
   "execution_count": 4,
   "metadata": {},
   "outputs": [],
   "source": [
    "#+ b + np.random.normal(0., 0.5, 1000)"
   ]
  },
  {
   "cell_type": "code",
   "execution_count": 6,
   "metadata": {},
   "outputs": [],
   "source": [
    "zz= np.random.uniform(0., 1., 1000)\n",
    "e= np.random.normal(0.,0.5, 1000)\n",
    "#d= a1* np.log(z+1)+e\n",
    "d=a1*zz*(1+zz)"
   ]
  },
  {
   "cell_type": "code",
   "execution_count": 11,
   "metadata": {},
   "outputs": [],
   "source": [
    "m=5*np.log10(d)+e"
   ]
  },
  {
   "cell_type": "code",
   "execution_count": 12,
   "metadata": {},
   "outputs": [],
   "source": [
    "dat= {'z':np.random.uniform(0., 1., 1000), \n",
    "      'm': 5*np.log10(d)+e ,\n",
    "      'e': np.random.normal(0.,0.5, 1000)}\n",
    "df = pd.DataFrame(data=dat)"
   ]
  },
  {
   "cell_type": "code",
   "execution_count": 13,
   "metadata": {},
   "outputs": [],
   "source": [
    "data=np.sort(df.T, axis=0)\n",
    "zs = df.z\n",
    "mm = df.m\n",
    "dm = df.e\n"
   ]
  },
  {
   "cell_type": "code",
   "execution_count": 14,
   "metadata": {},
   "outputs": [],
   "source": [
    "#print a1"
   ]
  },
  {
   "cell_type": "code",
   "execution_count": 15,
   "metadata": {},
   "outputs": [],
   "source": [
    "#z= np.random.uniform(0., 1., 1000)\n",
    "#zs=a1*z"
   ]
  },
  {
   "cell_type": "code",
   "execution_count": 16,
   "metadata": {},
   "outputs": [],
   "source": [
    "#print zs\n"
   ]
  },
  {
   "cell_type": "code",
   "execution_count": 17,
   "metadata": {},
   "outputs": [
    {
     "data": {
      "text/plain": [
       "[<matplotlib.lines.Line2D at 0x7fd88ac64650>]"
      ]
     },
     "execution_count": 17,
     "metadata": {},
     "output_type": "execute_result"
    },
    {
     "data": {
      "image/png": "[encoded data removed]",
      "text/plain": [
       "<Figure size 432x288 with 1 Axes>"
      ]
     },
     "metadata": {
      "needs_background": "light"
     },
     "output_type": "display_data"
    }
   ],
   "source": [
    "\n",
    "#d= np.exp(zs) + b + np.random.normal(0., 0.5, 1000)\n",
    "plt.plot(zs, mm, '.')"
   ]
  },
  {
   "cell_type": "code",
   "execution_count": null,
   "metadata": {},
   "outputs": [],
   "source": [
    "dat= {'z':np.random.uniform(0., 1., 1000), \n",
    "      'd':a1* z + b + np.random.normal(0., 0.5, 1000),\n",
    "      'e': np.random.normal(0.,0.5, 1000)}\n",
    "df = pd.DataFrame(data=dat)"
   ]
  },
  {
   "cell_type": "code",
   "execution_count": null,
   "metadata": {},
   "outputs": [],
   "source": [
    "data=np.sort(df.T, axis=0)\n",
    "zs = df.z\n",
    "mm = df.d\n",
    "dm = df.e\n"
   ]
  },
  {
   "cell_type": "code",
   "execution_count": null,
   "metadata": {},
   "outputs": [],
   "source": [
    "print zs"
   ]
  },
  {
   "cell_type": "code",
   "execution_count": null,
   "metadata": {},
   "outputs": [],
   "source": [
    "print mm"
   ]
  },
  {
   "cell_type": "code",
   "execution_count": null,
   "metadata": {},
   "outputs": [],
   "source": [
    "from astropy.cosmology import wCDM"
   ]
  },
  {
   "cell_type": "code",
   "execution_count": null,
   "metadata": {},
   "outputs": [],
   "source": [
    "def w(z) :\n",
    "    wz=w0\n",
    "    return wz"
   ]
  },
  {
   "cell_type": "code",
   "execution_count": null,
   "metadata": {},
   "outputs": [],
   "source": [
    "def DM(zz,H0,Om,Ode,w):\n",
    "    cosmo = wCDM(H0=H0* u.km / u.s / u.Mpc, Om0=Om,Ode0=Ode,w0=w)\n",
    "    DL=cosmo.luminosity_distance(zz)\n",
    "    mag=5*np.log10((DL/(10*u.pc)).decompose())\n",
    "    return mag"
   ]
  },
  {
   "cell_type": "code",
   "execution_count": null,
   "metadata": {},
   "outputs": [],
   "source": [
    "p = lmfit.Parameters()\n",
    "p.add_many(('Om',0.3,True,0.,2.),('H0',70.0,True,50.,100.),('Ode',0.7,True,0.,2.),('w',-1.0,True,-2.,2.))\n",
    "\n",
    "def residual(p):\n",
    "    v = p.valuesdict()\n",
    "    return (DM(zs,v['H0'],v['Om'],v['Ode'],v['w'])-mm)/dm"
   ]
  },
  {
   "cell_type": "code",
   "execution_count": null,
   "metadata": {},
   "outputs": [],
   "source": [
    "mi = lmfit.minimize(residual, p, method='nelder', nan_policy='omit')"
   ]
  },
  {
   "cell_type": "code",
   "execution_count": null,
   "metadata": {},
   "outputs": [],
   "source": [
    "s = (zs.sort_values()).index\n",
    "plt.errorbar(zs[s],mm[s],yerr=dm[s],fmt='o',alpha=0.4)\n",
    "bestOm = mi.params.valuesdict()['Om']\n",
    "bestH0 = mi.params.valuesdict()['H0']\n",
    "bestOde= mi.params.valuesdict()['Ode']\n",
    "bestw = mi.params.valuesdict()['w']\n",
    "plt.plot(zs[s],DM(zs[s],bestH0,bestOm,bestOde,bestw))\n",
    "plt.xlabel('Redshift (z)')\n",
    "plt.ylabel('Distance Modulus (mag)')\n",
    "lmfit.report_fit(mi)"
   ]
  },
  {
   "cell_type": "code",
   "execution_count": null,
   "metadata": {},
   "outputs": [],
   "source": [
    "res = lmfit.minimize(residual, method='emcee', nan_policy='omit', burn=300, steps=1500, thin=1,\n",
    "                         params=p, is_weighted=True)"
   ]
  },
  {
   "cell_type": "code",
   "execution_count": null,
   "metadata": {},
   "outputs": [],
   "source": [
    "corner.corner(res.flatchain,labels=mi.var_names, truths=list(mi.params.valuesdict().values()))"
   ]
  },
  {
   "cell_type": "code",
   "execution_count": null,
   "metadata": {},
   "outputs": [],
   "source": []
  }
 ],
 "metadata": {
  "kernelspec": {
   "display_name": "Python 2",
   "language": "python",
   "name": "python2"
  },
  "language_info": {
   "codemirror_mode": {
    "name": "ipython",
    "version": 2
   },
   "file_extension": ".py",
   "mimetype": "text/x-python",
   "name": "python",
   "nbconvert_exporter": "python",
   "pygments_lexer": "ipython2",
   "version": "2.7.15rc1"
  }
 },
 "nbformat": 4,
 "nbformat_minor": 2
}
