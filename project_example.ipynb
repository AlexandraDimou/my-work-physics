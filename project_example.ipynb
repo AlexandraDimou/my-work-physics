{
 "cells": [
  {
   "cell_type": "code",
   "execution_count": 1,
   "id": "2ba6bff7",
   "metadata": {},
   "outputs": [],
   "source": [
    "#Importing useful libraries\n",
    "import numpy as np\n",
    "import lmfit\n",
    "import matplotlib.pyplot as plt\n",
    "import pandas as pd\n",
    "import astropy\n",
    "import astropy.units as u\n",
    "import seaborn as sns"
   ]
  },
  {
   "cell_type": "code",
   "execution_count": 2,
   "id": "71c66dbc",
   "metadata": {},
   "outputs": [],
   "source": [
    "#Importing the data\n",
    "columns=['name','redshift','distance_mod','DM_err','SN_prob']\n",
    "data=pd.read_csv('SCPUnion2.1_mu_vs_z.txt', sep='\\s',names=columns, header=5, engine='python')"
   ]
  },
  {
   "cell_type": "code",
   "execution_count": 3,
   "id": "18014be9",
   "metadata": {},
   "outputs": [
    {
     "name": "stdout",
     "output_type": "stream",
     "text": [
      "       name  redshift  distance_mod    DM_err   SN_prob\n",
      "0    1993ag  0.050043     36.682368  0.166829  0.128419\n",
      "1     1993o  0.052926     36.817691  0.155756  0.128419\n",
      "2     1993b  0.070086     37.446737  0.158467  0.128419\n",
      "3    1992bs  0.062668     37.483409  0.156099  0.128419\n",
      "4    1992br  0.087589     38.229057  0.187746  0.128419\n",
      "..      ...       ...           ...       ...       ...\n",
      "574   D-000  1.017000     44.293971  0.171046  0.000015\n",
      "575   D-006  1.315000     44.971358  0.187509  0.551672\n",
      "576   P-009  0.821000     43.640939  0.194014  0.551672\n",
      "577   R-012  1.215000     45.246521  0.560317  0.000148\n",
      "578   Z-005  0.623000     42.514524  0.241428  0.551672\n",
      "\n",
      "[579 rows x 5 columns]\n"
     ]
    }
   ],
   "source": [
    "print(data)"
   ]
  },
  {
   "cell_type": "code",
   "execution_count": 4,
   "id": "57cab2c1",
   "metadata": {},
   "outputs": [
    {
     "data": {
      "text/plain": [
       "0"
      ]
     },
     "execution_count": 4,
     "metadata": {},
     "output_type": "execute_result"
    }
   ],
   "source": [
    "#Check for NaN values\n",
    "data.isnull().sum().sum()"
   ]
  },
  {
   "cell_type": "code",
   "execution_count": 5,
   "id": "b91193f5",
   "metadata": {},
   "outputs": [
    {
     "data": {
      "text/html": [
       "<div>\n",
       "<style scoped>\n",
       "    .dataframe tbody tr th:only-of-type {\n",
       "        vertical-align: middle;\n",
       "    }\n",
       "\n",
       "    .dataframe tbody tr th {\n",
       "        vertical-align: top;\n",
       "    }\n",
       "\n",
       "    .dataframe thead th {\n",
       "        text-align: right;\n",
       "    }\n",
       "</style>\n",
       "<table border=\"1\" class=\"dataframe\">\n",
       "  <thead>\n",
       "    <tr style=\"text-align: right;\">\n",
       "      <th></th>\n",
       "      <th>redshift</th>\n",
       "      <th>distance_mod</th>\n",
       "      <th>DM_err</th>\n",
       "      <th>SN_prob</th>\n",
       "    </tr>\n",
       "  </thead>\n",
       "  <tbody>\n",
       "    <tr>\n",
       "      <th>redshift</th>\n",
       "      <td>1.000000</td>\n",
       "      <td>0.883401</td>\n",
       "      <td>0.415372</td>\n",
       "      <td>0.419517</td>\n",
       "    </tr>\n",
       "    <tr>\n",
       "      <th>distance_mod</th>\n",
       "      <td>0.883401</td>\n",
       "      <td>1.000000</td>\n",
       "      <td>0.384451</td>\n",
       "      <td>0.600128</td>\n",
       "    </tr>\n",
       "    <tr>\n",
       "      <th>DM_err</th>\n",
       "      <td>0.415372</td>\n",
       "      <td>0.384451</td>\n",
       "      <td>1.000000</td>\n",
       "      <td>0.135325</td>\n",
       "    </tr>\n",
       "    <tr>\n",
       "      <th>SN_prob</th>\n",
       "      <td>0.419517</td>\n",
       "      <td>0.600128</td>\n",
       "      <td>0.135325</td>\n",
       "      <td>1.000000</td>\n",
       "    </tr>\n",
       "  </tbody>\n",
       "</table>\n",
       "</div>"
      ],
      "text/plain": [
       "              redshift  distance_mod    DM_err   SN_prob\n",
       "redshift      1.000000      0.883401  0.415372  0.419517\n",
       "distance_mod  0.883401      1.000000  0.384451  0.600128\n",
       "DM_err        0.415372      0.384451  1.000000  0.135325\n",
       "SN_prob       0.419517      0.600128  0.135325  1.000000"
      ]
     },
     "execution_count": 5,
     "metadata": {},
     "output_type": "execute_result"
    }
   ],
   "source": [
    "#Correlation among the values\n",
    "data.corr()"
   ]
  },
  {
   "cell_type": "code",
   "execution_count": 6,
   "id": "ca1b9941",
   "metadata": {},
   "outputs": [
    {
     "data": {
      "text/plain": [
       "<AxesSubplot:>"
      ]
     },
     "execution_count": 6,
     "metadata": {},
     "output_type": "execute_result"
    },
    {
     "data": {
      "image/png": "[encoded data removed]",
      "text/plain": [
       "<Figure size 432x288 with 2 Axes>"
      ]
     },
     "metadata": {
      "needs_background": "light"
     },
     "output_type": "display_data"
    }
   ],
   "source": [
    "#Mapping the correlation\n",
    "sns.heatmap(data.corr())"
   ]
  },
  {
   "cell_type": "code",
   "execution_count": 7,
   "id": "0ed6b800",
   "metadata": {},
   "outputs": [],
   "source": [
    "#Assign columns to values\n",
    "zs = data.redshift\n",
    "mm = data.distance_mod\n",
    "dm = data.DM_err"
   ]
  },
  {
   "cell_type": "code",
   "execution_count": 8,
   "id": "de2a38ed",
   "metadata": {},
   "outputs": [],
   "source": [
    "#print(zs)"
   ]
  },
  {
   "cell_type": "code",
   "execution_count": 9,
   "id": "d6f21125",
   "metadata": {},
   "outputs": [],
   "source": [
    "from astropy.cosmology import LambdaCDM"
   ]
  },
  {
   "cell_type": "code",
   "execution_count": 10,
   "id": "9aaca9cc",
   "metadata": {},
   "outputs": [],
   "source": [
    "def DM(z,H0,Om,Ode):\n",
    "    cosmo = LambdaCDM(H0=70 * u.km / u.s / u.Mpc, Om0=0.3, Ode0=0.7)\n",
    "    DL=cosmo.luminosity_distance(z)\n",
    "    mag=5*np.log10((DL/(10*u.pc)).decompose())\n",
    "    return mag"
   ]
  },
  {
   "cell_type": "code",
   "execution_count": 14,
   "id": "9fe3764f",
   "metadata": {},
   "outputs": [],
   "source": [
    "p = lmfit.Parameters()\n",
    "p.add_many(('Om',0.3),('H0',70.0),('Ode',0.7))\n",
    "\n",
    "def residual(p):\n",
    "    v = p.valuesdict()\n",
    "    return (DM(zs,v['H0'],v['Om'],v['Ode'])-mm)/dm"
   ]
  },
  {
   "cell_type": "code",
   "execution_count": 15,
   "id": "4f115fde",
   "metadata": {},
   "outputs": [],
   "source": [
    "mi = lmfit.minimize(residual, p, method='nelder', nan_policy='omit')"
   ]
  },
  {
   "cell_type": "code",
   "execution_count": 16,
   "id": "3a7bfa77",
   "metadata": {},
   "outputs": [
    {
     "name": "stdout",
     "output_type": "stream",
     "text": [
      "[[Fit Statistics]]\n",
      "    # fitting method   = Nelder-Mead\n",
      "    # function evals   = 84\n",
      "    # data points      = 579\n",
      "    # variables        = 3\n",
      "    chi-square         = 564.653902\n",
      "    reduced chi-square = 0.98030191\n",
      "    Akaike info crit   = -8.52681917\n",
      "    Bayesian info crit = 4.55708826\n",
      "##  Warning: uncertainties could not be estimated:\n",
      "    Om:   at initial value\n",
      "    H0:   at initial value\n",
      "[[Variables]]\n",
      "    Om:   0.30000000 (init = 0.3)\n",
      "    H0:   70.0000000 (init = 70)\n",
      "    Ode:  0.69980000 (init = 0.7)\n"
     ]
    },
    {
     "data": {
      "image/png": "[encoded data removed]",
      "text/plain": [
       "<Figure size 432x288 with 1 Axes>"
      ]
     },
     "metadata": {
      "needs_background": "light"
     },
     "output_type": "display_data"
    }
   ],
   "source": [
    "s = (zs.sort_values()).index\n",
    "plt.errorbar(zs[s],mm[s],yerr=dm[s],fmt='o',alpha=0.4)\n",
    "bestOm = mi.params.valuesdict()['Om']\n",
    "bestH0 = mi.params.valuesdict()['H0']\n",
    "bestOde =mi.params.valuesdict()['Ode']\n",
    "plt.plot(zs[s],DM(zs[s],bestH0,bestOm,bestOde))\n",
    "plt.xlabel('Redshift (z)')\n",
    "plt.ylabel('Distance Modulus (mag)')\n",
    "lmfit.report_fit(mi)"
   ]
  },
  {
   "cell_type": "code",
   "execution_count": null,
   "id": "b76d21aa",
   "metadata": {},
   "outputs": [],
   "source": []
  },
  {
   "cell_type": "code",
   "execution_count": null,
   "id": "4836dabc",
   "metadata": {},
   "outputs": [],
   "source": []
  }
 ],
 "metadata": {
  "kernelspec": {
   "display_name": "Python 3",
   "language": "python",
   "name": "python3"
  },
  "language_info": {
   "codemirror_mode": {
    "name": "ipython",
    "version": 3
   },
   "file_extension": ".py",
   "mimetype": "text/x-python",
   "name": "python",
   "nbconvert_exporter": "python",
   "pygments_lexer": "ipython3",
   "version": "3.7.10"
  }
 },
 "nbformat": 4,
 "nbformat_minor": 5
}
